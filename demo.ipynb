{
  "cells": [
    {
      "cell_type": "code",
      "execution_count": null,
      "metadata": {
        "colab": {
          "base_uri": "https://localhost:8080/"
        },
        "id": "ccQZ2hNy7iAz",
        "outputId": "d334b17f-b2a3-44b7-85c4-e780f3ff1533"
      },
      "outputs": [],
      "source": [
        "!git clone https://github.com/Madhudorai/dcase2024.git"
      ]
    },
    {
      "cell_type": "code",
      "execution_count": null,
      "metadata": {
        "colab": {
          "base_uri": "https://localhost:8080/"
        },
        "id": "ppIM36B90vAP",
        "outputId": "f6121d72-9c8d-4d51-c793-9d420e5ddd02"
      },
      "outputs": [],
      "source": [
        "!pip install pyroomacoustics"
      ]
    },
    {
      "cell_type": "code",
      "execution_count": 3,
      "metadata": {
        "id": "Jy_orQ3g02hb"
      },
      "outputs": [],
      "source": [
        "import numpy as np\n",
        "import soundfile as sf\n",
        "from scipy import signal\n",
        "import os\n",
        "import scipy.special as sp\n",
        "from scipy.io import loadmat\n",
        "import matplotlib.pyplot as plt\n",
        "from scipy.special import factorial, lpmv\n",
        "import pyroomacoustics as pra"
      ]
    },
    {
      "cell_type": "code",
      "execution_count": null,
      "metadata": {
        "colab": {
          "base_uri": "https://localhost:8080/"
        },
        "id": "5Dldll687vh4",
        "outputId": "f547b36a-3625-4e02-c9d4-e7a07d2225c5"
      },
      "outputs": [],
      "source": [
        "import os\n",
        "print(os.getcwd())\n",
        "os.chdir('/content/dcase2024')\n",
        "print(os.getcwd())"
      ]
    },
    {
      "cell_type": "code",
      "execution_count": 5,
      "metadata": {
        "id": "_ahcrNq67k4r"
      },
      "outputs": [],
      "source": [
        "import MicrophoneArray\n",
        "import plot_tools\n",
        "from tools import sph2cart, soundread, setRoom, ssl_SHmethod_broad\n",
        "from plot_tools import plot_wave, plot_stft, plot_option"
      ]
    },
    {
      "cell_type": "code",
      "execution_count": null,
      "metadata": {
        "colab": {
          "base_uri": "https://localhost:8080/"
        },
        "id": "i43K2IKX1TKB",
        "outputId": "2f588055-3de1-4510-b0d2-303e34d4a55a"
      },
      "outputs": [],
      "source": [
        "MicArray32 = MicrophoneArray.EigenmikeEM32()\n",
        "name = MicArray32.getname()\n",
        "array_type = MicArray32.gettype()\n",
        "thetas = MicArray32._thetas\n",
        "phis = MicArray32._phis\n",
        "radius = MicArray32._radius\n",
        "weights = MicArray32._weights\n",
        "num_elements = MicArray32._numelements\n",
        "directivity = MicArray32._directivity\n",
        "\n",
        "# Initialize the list of mic_position in spherical harmonic domain\n",
        "mic_pos_sph = []\n",
        "\n",
        "# for each theta and phi, create a new coordinate which contains all parameters\n",
        "# to the list of mic_pos\n",
        "for theta, phi in zip(thetas, phis):\n",
        "    mic_pos_sph.append([radius, theta, phi])\n",
        "mic_pos_sph = np.array(mic_pos_sph)\n",
        "print(\"Name:\", name)\n",
        "print(\"Array Type:\", array_type)\n",
        "print(\"Thetas:\", thetas)\n",
        "print(\"Phis:\", phis)\n",
        "print(\"Radius:\", radius)\n",
        "print(\"Weights:\", weights)\n",
        "print(\"Number of Elements:\", num_elements)\n",
        "print(\"Directivity:\", directivity)"
      ]
    },
    {
      "cell_type": "code",
      "execution_count": 7,
      "metadata": {
        "id": "_A29qHXLBDXp"
      },
      "outputs": [],
      "source": [
        "### The room properties\n",
        "room_dim = np.array([9, 6, 3])\n",
        "ori_coor = room_dim/2"
      ]
    },
    {
      "cell_type": "code",
      "execution_count": null,
      "metadata": {
        "colab": {
          "base_uri": "https://localhost:8080/",
          "height": 876
        },
        "id": "is-AkkkFBFba",
        "outputId": "3f679899-af34-42f9-af15-11dbfdf2d293"
      },
      "outputs": [],
      "source": [
        "### Sound Source\n",
        "mic_signals_speech, fs, num_channels = soundread('/content/dcase2024/Data/speech@24kHz.wav')\n",
        "plot_wave(mic_signals_speech, fs)\n",
        "plot_stft(mic_signals_speech, fs)\n",
        "Theta_l = 50/180 * np.pi\n",
        "Phi_l = 230/180 * np.pi\n",
        "source_pos_car = 50*radius * np.array([np.sin(Theta_l) * np.cos(Phi_l), np.sin(Theta_l) * np.sin(Phi_l), np.cos(Theta_l)])\n",
        "source_pos_car_cal = source_pos_car + ori_coor\n",
        "source_pos_car_list = [source_pos_car_cal]\n",
        "signal_list = [mic_signals_speech]\n"
      ]
    },
    {
      "cell_type": "code",
      "execution_count": 9,
      "metadata": {
        "id": "1q8t7pipBHjm"
      },
      "outputs": [],
      "source": [
        "mic_pos_car = [sph2cart(r,theta,phi) for r,theta,phi in mic_pos_sph]\n",
        "mic_pos_car = np.array(mic_pos_car)\n",
        "mic_pos_car_cal = mic_pos_car + ori_coor\n",
        "mic_arrays_car = [mic_pos_car_cal]"
      ]
    },
    {
      "cell_type": "code",
      "execution_count": null,
      "metadata": {
        "colab": {
          "base_uri": "https://localhost:8080/"
        },
        "id": "i716_T6VBJsU",
        "outputId": "618eb80a-14f5-4b4c-f3cf-5fd726eeafa3"
      },
      "outputs": [],
      "source": [
        "anechoic_room = setRoom(room_dim, mic_arrays_car, source_pos_car_list, signal_list, \"Anechoic\")\n",
        "reverberant_room ,rt60_est= setRoom(room_dim, mic_arrays_car, source_pos_car_list, signal_list, \"Reverb\",0.4)\n",
        "print(f'The simulated rt60 is', rt60_est)"
      ]
    },
    {
      "cell_type": "code",
      "execution_count": null,
      "metadata": {
        "colab": {
          "base_uri": "https://localhost:8080/",
          "height": 408
        },
        "id": "fIR_psMfBMHy",
        "outputId": "6f439dd2-b1fb-41c9-b4d3-3fa11d549fde"
      },
      "outputs": [],
      "source": [
        "plot_option(reverberant_room, mic_arrays_car, source_pos_car_list)"
      ]
    },
    {
      "cell_type": "code",
      "execution_count": null,
      "metadata": {
        "colab": {
          "base_uri": "https://localhost:8080/",
          "height": 193
        },
        "id": "_UrDADnxBOBa",
        "outputId": "277436fb-d799-4fa2-ff75-094a4bb80d7b"
      },
      "outputs": [],
      "source": [
        "file_path = \"/content/dcase2024/Reverberant/Array_output_0/source0.wav\"\n",
        "signal_processed = pra.create_noisy_signal(file_path,15)[0]\n",
        "plot_wave(signal_processed[:, 0], fs)\n",
        "plot_stft(signal_processed[:, 0], fs)"
      ]
    },
    {
      "cell_type": "code",
      "execution_count": null,
      "metadata": {
        "colab": {
          "base_uri": "https://localhost:8080/",
          "height": 321
        },
        "id": "6ENNnA0mBRKL",
        "outputId": "f65e6781-f9b1-4544-8df6-cedb57a345de"
      },
      "outputs": [],
      "source": [
        "out_DAS, pos_est_DAS= ssl_SHmethod_broad(signal_processed,fs,mic_pos_sph,Theta_l,Phi_l,\"DAS\",\"rigid\",\"2D\",resolution = 1)"
      ]
    }
  ],
  "metadata": {
    "colab": {
      "provenance": []
    },
    "kernelspec": {
      "display_name": "Python 3",
      "name": "python3"
    },
    "language_info": {
      "name": "python"
    }
  },
  "nbformat": 4,
  "nbformat_minor": 0
}
